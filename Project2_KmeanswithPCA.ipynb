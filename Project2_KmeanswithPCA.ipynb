{
 "cells": [
  {
   "cell_type": "markdown",
   "id": "1acaa211",
   "metadata": {},
   "source": [
    "# Kmeans with PCA "
   ]
  },
  {
   "cell_type": "markdown",
   "id": "d250bd51",
   "metadata": {},
   "source": [
    "# Importing all the libraries"
   ]
  },
  {
   "cell_type": "code",
   "execution_count": null,
   "id": "16f2b62d",
   "metadata": {},
   "outputs": [],
   "source": [
    "# Step1 - Import libraries\n",
    "import numpy as np\n",
    "import pandas as pd\n",
    "import matplotlib.pyplot as plt\n",
    "import seaborn as sns\n",
    "%matplotlib inline"
   ]
  },
  {
   "cell_type": "markdown",
   "id": "0de53030",
   "metadata": {},
   "source": [
    "# Loading the food_agro file and handling the null values in it"
   ]
  },
  {
   "cell_type": "code",
   "execution_count": null,
   "id": "1ffa4569",
   "metadata": {},
   "outputs": [],
   "source": [
    "food_agro = pd.read_csv(\"Project_Data_1.csv\",thousands=',',index_col=0)\n",
    "\n",
    "print(food_agro.isnull().values.any())\n",
    "print(food_agro.isnull().sum())\n",
    "#so as you see there is no null values in any of the column in the dataset.\n",
    "food_agro.dropna()\n",
    "#Also there is no nan values\n",
    "print(food_agro)"
   ]
  },
  {
   "cell_type": "markdown",
   "id": "e1dabb91",
   "metadata": {},
   "source": [
    "# Applying the principal component analysis on the file"
   ]
  },
  {
   "cell_type": "code",
   "execution_count": null,
   "id": "13fe80df",
   "metadata": {},
   "outputs": [],
   "source": [
    "from sklearn.decomposition import PCA\n",
    "pca = PCA()\n",
    "pca.fit(food_agro)\n"
   ]
  },
  {
   "cell_type": "code",
   "execution_count": null,
   "id": "99558155",
   "metadata": {},
   "outputs": [],
   "source": [
    "print(pca.explained_variance_ratio_.round(2))"
   ]
  },
  {
   "cell_type": "markdown",
   "id": "fd84d8f1",
   "metadata": {},
   "source": [
    "# Plotting the variance in a graph in order to identify the ideal number of principal components. So as per the graph the efficiency is growing more than 95% after 3."
   ]
  },
  {
   "cell_type": "code",
   "execution_count": null,
   "id": "7da0e809",
   "metadata": {},
   "outputs": [],
   "source": [
    "plt.figure(figsize=(10,8))\n",
    "plt.plot(range(1,19),pca.explained_variance_ratio_.cumsum(),marker='o',linestyle=\"--\")"
   ]
  },
  {
   "cell_type": "markdown",
   "id": "bc6e9edb",
   "metadata": {},
   "source": [
    "# Fitting 3 as the number of components for PCA"
   ]
  },
  {
   "cell_type": "code",
   "execution_count": null,
   "id": "dae5bce8",
   "metadata": {},
   "outputs": [],
   "source": [
    "pca=PCA(n_components=3)\n",
    "pca.fit(food_agro)"
   ]
  },
  {
   "cell_type": "markdown",
   "id": "9267c57a",
   "metadata": {},
   "source": [
    "# Applying the PCA on the data, and adopting the elbow method to identify the optimal number of clusters for the data"
   ]
  },
  {
   "cell_type": "code",
   "execution_count": null,
   "id": "c9ceb4f8",
   "metadata": {},
   "outputs": [],
   "source": [
    "scores_pca=pca.transform(food_agro)"
   ]
  },
  {
   "cell_type": "code",
   "execution_count": null,
   "id": "1fd77efe",
   "metadata": {},
   "outputs": [],
   "source": [
    "from sklearn.cluster import KMeans\n",
    "wcd = []\n",
    "for i in range(1,10):\n",
    "    kmeans_pca = KMeans(n_clusters=i,init='k-means++')\n",
    "    kmeans_pca.fit(scores_pca)\n",
    "    wcd.append(kmeans_pca.inertia_)\n",
    "plt.plot(range(1,10),wcd)\n",
    "plt.title(\"Elbow curve\")\n",
    "plt.xlabel(\"No of Cluster = K\")\n",
    "plt.ylabel(\"Within Cluster distance\")"
   ]
  },
  {
   "cell_type": "markdown",
   "id": "62ada5de",
   "metadata": {},
   "source": [
    "# Applying the K-Means algorithm on the PCA applied data with 3 as the number of clusters"
   ]
  },
  {
   "cell_type": "code",
   "execution_count": null,
   "id": "05961f86",
   "metadata": {},
   "outputs": [],
   "source": [
    "kmeans_pca = KMeans(n_clusters=3,init='k-means++')\n",
    "\n",
    "y_kmeans = kmeans_pca.fit(scores_pca)\n",
    "print(y_kmeans)"
   ]
  },
  {
   "cell_type": "markdown",
   "id": "6a7bc160",
   "metadata": {},
   "source": [
    "# Merging the data with its PCA values and the cluster number "
   ]
  },
  {
   "cell_type": "code",
   "execution_count": null,
   "id": "b4c62635",
   "metadata": {},
   "outputs": [],
   "source": [
    "food_agro_pca_kmeans=pd.concat([food_agro.reset_index(drop=True),pd.DataFrame(scores_pca)],axis=1)\n",
    "food_agro_pca_kmeans.columns.values[-3:]=['Component1','Component2','Component3']\n",
    "food_agro_pca_kmeans['Segment K-Means']=kmeans_pca.labels_\n",
    "print(food_agro_pca_kmeans.head())"
   ]
  },
  {
   "cell_type": "markdown",
   "id": "dc44502e",
   "metadata": {},
   "source": [
    "# Plotting the clusters based the PCA in the graph"
   ]
  },
  {
   "cell_type": "code",
   "execution_count": null,
   "id": "8813a2be",
   "metadata": {},
   "outputs": [],
   "source": [
    "x_axis=food_agro_pca_kmeans['Component1']\n",
    "y_axis=food_agro_pca_kmeans['Component2']\n",
    "plt.figure(figsize=(10,10))\n",
    "sns.scatterplot(x_axis,y_axis,hue=food_agro_pca_kmeans['Segment K-Means'],palette=['r','g','b'])\n",
    "sns.scatterplot(kmeans_pca.cluster_centers_[:,0],kmeans_pca.cluster_centers_[:,1],kmeans_pca.cluster_centers_[:,2],s=100,c='pink',label='Centres')\n",
    "plt.show()"
   ]
  }
 ],
 "metadata": {
  "kernelspec": {
   "display_name": "Python 3",
   "language": "python",
   "name": "python3"
  },
  "language_info": {
   "codemirror_mode": {
    "name": "ipython",
    "version": 3
   },
   "file_extension": ".py",
   "mimetype": "text/x-python",
   "name": "python",
   "nbconvert_exporter": "python",
   "pygments_lexer": "ipython3",
   "version": "3.8.8"
  }
 },
 "nbformat": 4,
 "nbformat_minor": 5
}
